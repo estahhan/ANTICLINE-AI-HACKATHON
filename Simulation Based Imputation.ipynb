{
 "cells": [
  {
   "cell_type": "markdown",
   "metadata": {},
   "source": [
    "# Energy A.I. Hackathon 2021 Workflow - Team Anticline\n",
    "## Simulation Based Imputation\n",
    "#### Authors: Esmail Eltahan, Jeon Jonghyeon, Mehran Mehrabi, and Wen Pan, Hildebrand Department of Petroleum and Geosystems Engineering. \n",
    "#### The University of Texas at Austin, Austin, Texas USA \n",
    "\n",
    "<img src=\"anticline_official_logo.png\" width=300 />\n",
    "\n"
   ]
  },
  {
   "cell_type": "markdown",
   "metadata": {},
   "source": [
    "## Import packages"
   ]
  },
  {
   "cell_type": "code",
   "execution_count": 24,
   "metadata": {},
   "outputs": [],
   "source": [
    "import pandas as pd \n",
    "import numpy as np\n",
    "import matplotlib\n",
    "import matplotlib.pyplot as plt\n",
    "from scipy import spatial\n",
    "import seaborn as sns     #"
   ]
  },
  {
   "cell_type": "markdown",
   "metadata": {},
   "source": [
    "## Load the data "
   ]
  },
  {
   "cell_type": "code",
   "execution_count": 25,
   "metadata": {},
   "outputs": [],
   "source": [
    "ai = np.load(\"2d_ai.npy\")\n",
    "sand_propotion = np.load(\"2d_sand_propotion.npy\")\n",
    "sandy_shale_propotion = np.load(\"2d_sandy_shale_propotion.npy\")\n",
    "shale_propotion = np.load(\"2d_shale_propotion.npy\")\n",
    "shaly_sand_propotion = np.load(\"2d_shaly_sand_propotion.npy\")\n",
    "top_depth = np.load(\"2d_top_depth.npy\")\n",
    "df_production = pd.read_csv('production_history.csv')\n",
    "\n",
    "df_p = pd.read_csv('wellbore_data_producer_wells.csv')\n",
    "df_n = pd.read_csv('wellbore_data_preproduction_well.csv')"
   ]
  },
  {
   "cell_type": "markdown",
   "metadata": {},
   "source": [
    "## Add lithology identifier \n",
    "\n",
    "we add a column `lith_id` that takes values of $k={0,1,2,3}$, such that it serves as an identifier of rock facies. This is necessary such that we include the categorical variable in our analysis. Another way to include it is using the One Hot Encoder method, however we believe that the increase from 0 to 3 has meaningful value, as formation quality increases from shale to sandstone. In addition, we believe that this method of classification is sufficient for our purposes."
   ]
  },
  {
   "cell_type": "code",
   "execution_count": 26,
   "metadata": {},
   "outputs": [],
   "source": [
    "litho_keys = {'Shale':0,\n",
    "                         'Sandy shale':1,\n",
    "                         'Shaly sandstone': 2,\n",
    "                         'Sandstone': 3}\n",
    "def add_lith_id(df_p, df_n, litho_keys):\n",
    "    dfs = [df_p, df_n]\n",
    "    for df in dfs:\n",
    "        df['layer']=np.arange(df.shape[0])%20\n",
    "        df['lith_id'] = df['Rock facies'].map(litho_keys)\n",
    "    return df_p, df_n\n",
    "# add litho_id\n",
    "df_p, df_n = add_lith_id(df_p, df_n, litho_keys)\n",
    "static_well_dat=pd.concat([df_p,df_n])\n"
   ]
  },
  {
   "cell_type": "markdown",
   "metadata": {},
   "source": [
    "## Iterative imputation\n",
    "\n",
    "Here we use `IterativeImputer` from `sklearn` to fill in the missing values. Our strategy is to fill in all the propoerties using the `IterativeImputer` method expcept for porosity and permeability. Porosity and permeability will be imputed using the simulation realizations we already generated. \n",
    "\n",
    "We define two sets of variable `imp_vars_1` and `imp_vars_2` to make two separate imputations. We selected them based on our observation that within each group, there exists unique correlations.\n",
    "\n",
    "The first set `imp_vars_1` includes:\n",
    "- Porosity\n",
    "- layer\n",
    "- Acoustic Impedance \n",
    "- Permeability\n",
    "- Density\n",
    "- lith_id\n",
    "\n",
    "The second set `imp_vars_2` includes:\n",
    "- Density\n",
    "- Compressible velocity\n",
    "- Youngs modulus\n",
    "- Shear velocity \n",
    "- Shear modulus"
   ]
  },
  {
   "cell_type": "code",
   "execution_count": 35,
   "metadata": {},
   "outputs": [],
   "source": [
    "def iterative_impute_1(static_well_dat, imp_vars_1):\n",
    "    \n",
    "    from sklearn.experimental import enable_iterative_imputer\n",
    "    from sklearn.impute import IterativeImputer\n",
    "\n",
    "    \n",
    "    imp_dat_1 = static_well_dat[imp_vars_1].values.copy()\n",
    "    imp_mean = IterativeImputer()\n",
    "    imp_mean.fit(imp_dat_1)\n",
    "    dat_transform_1=imp_mean.transform(imp_dat_1)\n",
    "    dat_transform_1[:,-1][dat_transform_1[:,-1]<0]=0\n",
    "    dat_transform_1[:,-1][dat_transform_1[:,-1]>3]=3\n",
    "    dat_transform_1[:,-1]=np.rint(dat_transform_1[:,-1])\n",
    "    dat_imputed_1 = pd.DataFrame(dat_transform_1)\n",
    "    dat_imputed_1.columns= imp_vars_1\n",
    "    dat_imputed_1.describe().T\n",
    "    del IterativeImputer\n",
    "\n",
    "    \n",
    "    return dat_imputed_1\n",
    "# iterative imputer\n",
    "imp_vars_1 = ['Porosity, fraction','layer','Acoustic Impedance, kg/s-m^2','Permeability, mD', 'Density, g/cm3', 'lith_id']\n",
    "dat_imputed_1 = iterative_impute_1(static_well_dat, imp_vars_1)\n"
   ]
  },
  {
   "cell_type": "code",
   "execution_count": 36,
   "metadata": {},
   "outputs": [
    {
     "name": "stderr",
     "output_type": "stream",
     "text": [
      "/home/estahhan/anaconda3/lib/python3.8/site-packages/sklearn/impute/_iterative.py:669: ConvergenceWarning: [IterativeImputer] Early stopping criterion not reached.\n",
      "  warnings.warn(\"[IterativeImputer] Early stopping criterion not\"\n"
     ]
    }
   ],
   "source": [
    "def iterative_impute_2(static_well_dat, imp_vars_2):\n",
    "    from sklearn.experimental import enable_iterative_imputer\n",
    "    from sklearn.impute import IterativeImputer\n",
    "    \n",
    "    imp_dat_2 = static_well_dat[imp_vars_2].values.copy()\n",
    "    imp_mean = IterativeImputer()\n",
    "    imp_mean.fit(imp_dat_2)\n",
    "    dat_transform_2=imp_mean.transform(imp_dat_2)\n",
    "\n",
    "    dat_imputed_2 = pd.DataFrame(dat_transform_2)\n",
    "    dat_imputed_2.columns= imp_vars_2\n",
    "    dat_imputed_2.describe().T\n",
    "    del IterativeImputer\n",
    "    return dat_imputed_2\n",
    "\n",
    "imp_vars_2 = ['Density, g/cm3', 'Compressible velocity, m/s', 'Youngs modulus, GPa',\n",
    "       'Shear velocity, m/s', 'Shear modulus, GPa']\n",
    "# dat_imputed_2 = iterative_impute_2(static_well_dat, imp_vars_2)\n",
    "dat_imputed_2 = iterative_impute_2(static_well_dat, imp_vars_2)\n",
    "# np.sum(dat_imputed_1 != dat_imputed_2)\n",
    "# np.sum(dat_imputed_1 != static_well_dat[imp_vars_2].values)\n",
    "# np.sum(np.isnan(static_well_dat[imp_vars_2].values))"
   ]
  },
  {
   "cell_type": "markdown",
   "metadata": {},
   "source": [
    "As we discussed earlier, we fill in the values we obtained from imputations only for the following set of parameters `updated_vars`: \n",
    "- layer\n",
    "- Acoustic Impedance \n",
    "- Density\n",
    "- lith_id\n",
    "- Compressible velocity\n",
    "- Youngs modulus\n",
    "- Shear velocity \n",
    "- Shear modulus"
   ]
  },
  {
   "cell_type": "code",
   "execution_count": 37,
   "metadata": {},
   "outputs": [],
   "source": [
    "filled_vars_1 = ['lith_id', 'Acoustic Impedance, kg/s-m^2']\n",
    "filled_vars_2 = ['Density, g/cm3', 'Compressible velocity, m/s', 'Youngs modulus, GPa',\n",
    "       'Shear velocity, m/s', 'Shear modulus, GPa']\n",
    "\n",
    "static_well_dat[filled_vars_1] = dat_imputed_1[filled_vars_1]\n",
    "static_well_dat[filled_vars_2] = dat_imputed_2[filled_vars_2]\n",
    "static_well_dat['lith_id'] = static_well_dat['lith_id'].astype('int')\n",
    "inv_map = {v: k for k, v in litho_keys.items()}\n",
    "static_well_dat['Rock facies'] = static_well_dat['lith_id'].map(inv_map)"
   ]
  },
  {
   "cell_type": "code",
   "execution_count": 38,
   "metadata": {},
   "outputs": [],
   "source": [
    "end_index = df_p.shape[0]\n",
    "updated_vars = filled_vars_1 + filled_vars_2 + ['Rock facies']\n",
    "df_p.loc[:, updated_vars] = static_well_dat.iloc[:end_index][updated_vars]\n",
    "df_n.loc[:, updated_vars] = static_well_dat.iloc[end_index:][updated_vars]"
   ]
  },
  {
   "cell_type": "markdown",
   "metadata": {},
   "source": [
    "## Load simulated maps\n",
    "\n",
    "Now we load the already simulated maps per facies that we obtained using sequential Gaussian simulations. The porosity and permeability maps are merged into two large array `sim_pors` and `sim_perms`. Each of the arrays has dimension $(4, L, N, N)$ where 4 is the number of facies, $L$ is the number of realizations, $N$ is the number of cells in $x$ and $y$ directions. "
   ]
  },
  {
   "cell_type": "code",
   "execution_count": 39,
   "metadata": {},
   "outputs": [],
   "source": [
    "sim_pors_0 = []\n",
    "sim_pors_1 = []\n",
    "sim_pors_2 = []\n",
    "sim_pors_3 = []\n",
    "sim_perms_0 = []\n",
    "sim_perms_1 = []\n",
    "sim_perms_2 = []\n",
    "sim_perms_3 = []\n",
    "N =100\n",
    "for i in range(N):\n",
    "    sim_perms_0.append(np.load(\"./sgs_maps/perm_shale_{0:03d}.npy\".format(i)))\n",
    "    sim_perms_1.append(np.load(\"./sgs_maps/perm_sandyshale_{0:03d}.npy\".format(i)))\n",
    "    sim_perms_2.append(np.load(\"./sgs_maps/perm_shalysand_{0:03d}.npy\".format(i)))\n",
    "    sim_perms_3.append(np.load(\"./sgs_maps/perm_sand_{0:03d}.npy\".format(i)))\n",
    "    \n",
    "    sim_pors_0.append(np.load(\"./sgs_maps/por_shale_{0:03d}.npy\".format(i)))\n",
    "    sim_pors_1.append(np.load(\"./sgs_maps/por_sandyshale_{0:03d}.npy\".format(i)))\n",
    "    sim_pors_2.append(np.load(\"./sgs_maps/por_shalysand_{0:03d}.npy\".format(i)))\n",
    "    sim_pors_3.append(np.load(\"./sgs_maps/por_sand_{0:03d}.npy\".format(i)))"
   ]
  },
  {
   "cell_type": "code",
   "execution_count": 40,
   "metadata": {},
   "outputs": [],
   "source": [
    "sim_pors = np.array([sim_pors_0, sim_pors_1, sim_pors_2, sim_pors_3])\n",
    "sim_perms = np.array([sim_perms_0, sim_perms_1, sim_perms_2, sim_perms_3])"
   ]
  },
  {
   "cell_type": "markdown",
   "metadata": {},
   "source": [
    "## Fill from simulations and save to file\n",
    "\n",
    "Now we iterate over the number of realizations $L$, fill in the porosity and permeability missing values at the well locations by interpolating the well location, facies at the depth of inquiry, with the corresponding values from the maps."
   ]
  },
  {
   "cell_type": "code",
   "execution_count": 41,
   "metadata": {},
   "outputs": [],
   "source": [
    "import warnings\n",
    "warnings.filterwarnings('ignore')\n",
    "L=1\n",
    "for i in range(L): \n",
    "    # load data\n",
    "    df_p = pd.read_csv('wellbore_data_producer_wells.csv')\n",
    "    df_n = pd.read_csv('wellbore_data_preproduction_well.csv')\n",
    "    # add litho_id\n",
    "    df_p, df_n = add_lith_id(df_p, df_n, litho_keys)\n",
    "    static_well_dat=pd.concat([df_p,df_n])\n",
    "    # iterative imputer\n",
    "    imp_vars_1 = ['Porosity, fraction','layer','Acoustic Impedance, kg/s-m^2','Permeability, mD', 'Density, g/cm3', 'lith_id']\n",
    "    dat_imputed_1 = iterative_impute_1(static_well_dat, imp_vars_1)\n",
    "    \n",
    "    imp_vars_2 = ['Density, g/cm3', 'Compressible velocity, m/s', 'Youngs modulus, GPa',\n",
    "           'Shear velocity, m/s', 'Shear modulus, GPa']\n",
    "    dat_imputed_2 = iterative_impute_2(static_well_dat, imp_vars_2)\n",
    "    \n",
    "    filled_vars_1 = ['lith_id', 'Acoustic Impedance, kg/s-m^2']\n",
    "    filled_vars_2 = ['Density, g/cm3', 'Compressible velocity, m/s', 'Youngs modulus, GPa',\n",
    "           'Shear velocity, m/s', 'Shear modulus, GPa']\n",
    "    \n",
    "    static_well_dat[filled_vars_1] = dat_imputed_1[filled_vars_1]\n",
    "    static_well_dat[filled_vars_2] = dat_imputed_2[filled_vars_2]\n",
    "    static_well_dat['lith_id'] = static_well_dat['lith_id'].astype('int')\n",
    "    inv_map = {v: k for k, v in litho_keys.items()}\n",
    "    static_well_dat['Rock facies'] = static_well_dat['lith_id'].map(inv_map)\n",
    "    updated_vars = filled_vars_1 + filled_vars_2 + ['Rock facies']\n",
    "    df_p.loc[:, updated_vars] = static_well_dat.iloc[:end_index][updated_vars]\n",
    "    df_n.loc[:, updated_vars] = static_well_dat.iloc[end_index:][updated_vars] \n",
    "    df_n_imputed = df_n.copy()\n",
    "    mask = np.isnan(df_n_imputed['Porosity, fraction'])\n",
    "    df_n_imputed.loc[mask, 'Porosity, fraction'] = sim_pors[df_n_imputed.loc[mask]['lith_id'], i,df_n_imputed.loc[mask]['X, m'].values//50, df_n_imputed.loc[mask]['Y, m'].values//50 ]\n",
    "    mask = np.isnan(df_n_imputed['Permeability, mD'])\n",
    "    df_n_imputed.loc[mask, 'Permeability, mD'] = sim_perms[df_n_imputed.loc[mask]['lith_id'], i,df_n_imputed.loc[mask]['X, m']//50, df_n_imputed.loc[mask]['Y, m']//50 ]\n",
    "    df_n_imputed.to_csv(\"./imputed_data/df_n_{0:03d}.csv\".format(i), index=False)\n",
    "    \n",
    "    df_p_imputed = df_p.copy()\n",
    "    mask = np.isnan(df_p_imputed['Porosity, fraction'])\n",
    "    df_p_imputed.loc[mask, 'Porosity, fraction'] = sim_pors[df_p_imputed.loc[mask]['lith_id'], i,df_p_imputed.loc[mask]['X, m'].values//50, df_p_imputed.loc[mask]['Y, m'].values//50 ]\n",
    "    mask = np.isnan(df_p_imputed['Permeability, mD'])\n",
    "    df_p_imputed.loc[mask, 'Permeability, mD'] = sim_perms[df_p_imputed.loc[mask]['lith_id'], i,df_p_imputed.loc[mask]['X, m']//50, df_p_imputed.loc[mask]['Y, m']//50 ]\n",
    "    df_p_imputed.to_csv(\"./imputed_data/df_p_{0:03d}.csv\".format(i), index=False)\n",
    "    "
   ]
  },
  {
   "cell_type": "code",
   "execution_count": 42,
   "metadata": {},
   "outputs": [
    {
     "data": {
      "text/plain": [
       "<matplotlib.legend.Legend at 0x7f24b6fa0970>"
      ]
     },
     "execution_count": 42,
     "metadata": {},
     "output_type": "execute_result"
    },
    {
     "data": {
      "image/png": "[encoded data removed]",
      "text/plain": [
       "<Figure size 432x288 with 1 Axes>"
      ]
     },
     "metadata": {
      "needs_background": "light"
     },
     "output_type": "display_data"
    }
   ],
   "source": [
    "plt.hist([df_p_imputed.loc[df_p_imputed['lith_id']== 0]['Porosity, fraction'],df_p.loc[df_p['lith_id'] == 0]['Porosity, fraction']], label=['imputed', 'original'])\n",
    "plt.legend()"
   ]
  },
  {
   "cell_type": "code",
   "execution_count": 43,
   "metadata": {},
   "outputs": [
    {
     "data": {
      "text/plain": [
       "<matplotlib.legend.Legend at 0x7f24ae7cddc0>"
      ]
     },
     "execution_count": 43,
     "metadata": {},
     "output_type": "execute_result"
    },
    {
     "data": {
      "image/png": "[encoded data removed]",
      "text/plain": [
       "<Figure size 432x288 with 1 Axes>"
      ]
     },
     "metadata": {
      "needs_background": "light"
     },
     "output_type": "display_data"
    }
   ],
   "source": [
    "plt.hist([df_p_imputed.loc[df_p_imputed['lith_id']== 1]['Porosity, fraction'],df_p.loc[df_p['lith_id'] == 1]['Porosity, fraction']], label=['imputed', 'original'])\n",
    "plt.legend()"
   ]
  },
  {
   "cell_type": "code",
   "execution_count": 44,
   "metadata": {},
   "outputs": [
    {
     "data": {
      "text/plain": [
       "<matplotlib.legend.Legend at 0x7f24ae7b9ee0>"
      ]
     },
     "execution_count": 44,
     "metadata": {},
     "output_type": "execute_result"
    },
    {
     "data": {
      "image/png": "[encoded data removed]",
      "text/plain": [
       "<Figure size 432x288 with 1 Axes>"
      ]
     },
     "metadata": {
      "needs_background": "light"
     },
     "output_type": "display_data"
    }
   ],
   "source": [
    "plt.hist([df_p_imputed.loc[df_p_imputed['lith_id']== 2]['Porosity, fraction'],df_p.loc[df_p['lith_id'] == 2]['Porosity, fraction']], label=['imputed', 'original'])\n",
    "plt.legend()"
   ]
  }
 ],
 "metadata": {
  "kernelspec": {
   "display_name": "Python 3",
   "language": "python",
   "name": "python3"
  },
  "language_info": {
   "codemirror_mode": {
    "name": "ipython",
    "version": 3
   },
   "file_extension": ".py",
   "mimetype": "text/x-python",
   "name": "python",
   "nbconvert_exporter": "python",
   "pygments_lexer": "ipython3",
   "version": "3.8.3"
  }
 },
 "nbformat": 4,
 "nbformat_minor": 4
}
